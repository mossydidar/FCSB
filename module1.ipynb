{
 "cells": [
  {
   "cell_type": "code",
   "execution_count": 1,
   "metadata": {},
   "outputs": [
    {
     "ename": "ModuleNotFoundError",
     "evalue": "No module named 'otter'",
     "output_type": "error",
     "traceback": [
      "\u001b[1;31m---------------------------------------------------------------------------\u001b[0m",
      "\u001b[1;31mModuleNotFoundError\u001b[0m                       Traceback (most recent call last)",
      "\u001b[1;32m<ipython-input-1-366d1f018e3b>\u001b[0m in \u001b[0;36m<module>\u001b[1;34m\u001b[0m\n\u001b[1;32m----> 1\u001b[1;33m \u001b[1;32mimport\u001b[0m \u001b[0motter\u001b[0m\u001b[1;33m\u001b[0m\u001b[0m\n\u001b[0m\u001b[0;32m      2\u001b[0m \u001b[0mgrader\u001b[0m \u001b[1;33m=\u001b[0m \u001b[0motter\u001b[0m\u001b[1;33m.\u001b[0m\u001b[0mNotebook\u001b[0m\u001b[1;33m(\u001b[0m\u001b[1;33m)\u001b[0m\u001b[1;33m\u001b[0m\u001b[0m\n",
      "\u001b[1;31mModuleNotFoundError\u001b[0m: No module named 'otter'"
     ]
    }
   ],
   "source": [
    "import otter\n",
    "grader = otter.Notebook()"
   ]
  },
  {
   "cell_type": "markdown",
   "metadata": {
    "tags": []
   },
   "source": [
    "# D | Week 2: Practice Inheritance Composition & Aggregation\n",
    "\n",
    "------\n",
    "\n",
    "### Instructions:\n",
    "\n",
    "- Develop and check your answers in the spaces provided.\n",
    "- Do not remove any code already present in the answer spaces.\n",
    "- Do not make any changes to this notebook outside of the answer spaces provided.\n",
    "  \n",
    "#### Submitting\n",
    "\n",
    "- Make sure to restart the kernel and run all cells before you save and submit.\n",
    "- Upload your .ipynb file to Gradescope.\n",
    "- You can submit as many times as needed.\n",
    "- When reviewing results, ignore any results listed under \"Public Tests\"\n",
    "- For more information, see the assessments page."
   ]
  },
  {
   "cell_type": "markdown",
   "metadata": {},
   "source": [
    "#### Question 1&nbsp;&nbsp;&nbsp;&nbsp;&nbsp;&nbsp;(5 Points)\n",
    "\n",
    "1. Create a class `Speaker` with the following ***instance variables*** and methods.<br />\n",
    "\n",
    "**Attributes**:\n",
    "```\n",
    "public\n",
    "\n",
    "  jack (float)   # this is the audio jack type: e.g. 2.5 or 3.5 mm\n",
    "  tweeters (int) # the number of tweeters (high frequencey speakers)\n",
    "  woofers (int)  #  the number of woofers (low frequencey speakers)\n",
    "\n",
    "```\n",
    "**Methods**: <br />\n",
    "```\n",
    "public\n",
    "\n",
    "  __init__(self, jack, tweeters, woofers)\n",
    "  play_music(self) # returns the string \"Playing Music\"\n",
    "\n",
    "```\n",
    "Instantiate an object of the class as follows:\n",
    "```python\n",
    "q1_o1 = Speaker(2.5, 2, 2)\n",
    "```\n",
    "\n",
    "---\n",
    "<details>\n",
    "  <summary><span style=\"color:blue\">Is the __init__ method public?</span></summary>\n",
    "  Strictly speaking, the initializer method __init__() is not public but is called by the Python constructor for the class to initialize values in the instance after instantiation with __new__(). There is a good explanation of the sequence here <a href=\"https://realpython.com/python-class-constructor/\">Python Class Constuctors</a> (registration may be required to view).\n",
    "</details>"
   ]
  },
  {
   "cell_type": "code",
   "execution_count": 2,
   "metadata": {
    "tags": []
   },
   "outputs": [
    {
     "data": {
      "text/plain": [
       "'Playing music'"
      ]
     },
     "execution_count": 2,
     "metadata": {},
     "output_type": "execute_result"
    }
   ],
   "source": [
    "# Write your solution here\n",
    "class Speaker:\n",
    "    def __init__(self,jack,tweeters,woofers):\n",
    "        self.jack = jack\n",
    "        self.tweeters = tweeters\n",
    "        self.woofers = woofers\n",
    "        \n",
    "    def play_music(self):\n",
    "        return(f'Playing music')\n",
    "    \n",
    "q1_o1 = Speaker(2.5, 2, 2)\n",
    "q1_o1.play_music()"
   ]
  },
  {
   "cell_type": "markdown",
   "metadata": {},
   "source": [
    "#### Question 1b&nbsp;&nbsp;&nbsp;&nbsp;&nbsp;&nbsp;(10 Points)\n",
    "\n",
    "Create another class `BluetoothSpeaker` which inherits from `Speaker` and has following additional instance variable and methods.<br />\n",
    "\n",
    "**Attributes**:\n",
    "```\n",
    "public\n",
    "\n",
    "  battery = (int) # % of battery remaining with default value `100`\n",
    "\n",
    "protected\n",
    "\n",
    "  connected_to (string) # name of a connected device type\n",
    "\n",
    "```\n",
    "**Methods**:\n",
    "```\n",
    "public \n",
    "\n",
    "  __init__(self, jack, tweeters, woofers, connected_to)\n",
    "  play_music (self)               # returns \"Playing music from <self._connected_to>\"\n",
    "  set_connected_to (self, device) # sets value of connected_to = device\n",
    "  get_connected_to (self)         # returns connected_to\n",
    "\n",
    "```\n",
    "\n",
    "Instantiate an object as follows-\n",
    "```\n",
    "q1_o2 = BluetoothSpeaker (3.5, 2, 2, \"mobile\")\n",
    "\n",
    "```"
   ]
  },
  {
   "cell_type": "code",
   "execution_count": 3,
   "metadata": {
    "tags": []
   },
   "outputs": [
    {
     "name": "stdout",
     "output_type": "stream",
     "text": [
      "Playing music from mobile\n"
     ]
    },
    {
     "data": {
      "text/plain": [
       "True"
      ]
     },
     "execution_count": 3,
     "metadata": {},
     "output_type": "execute_result"
    }
   ],
   "source": [
    "# Write your solution here\n",
    "class Speaker:\n",
    "    def __init__(self,jack,tweeters,woofers):\n",
    "        self.jack = jack\n",
    "        self.tweeters = tweeters\n",
    "        self.woofers = woofers\n",
    "        #self.battery = 100\n",
    "        \n",
    "    def play_music(self):\n",
    "        return(f'Playing music from {self._connected_to}')\n",
    "\n",
    "class BluetoothSpeaker(Speaker):\n",
    "    def __init__(self,jack,tweeters,woofers,connected_to,battery=100):\n",
    "        super().__init__(jack,tweeters,woofers)\n",
    "        self._connected_to = connected_to\n",
    "        self.battery = battery\n",
    "        \n",
    "        \n",
    "    def set_connected_to(self,device):\n",
    "        self._connected_to = device\n",
    "        \n",
    "    def get_connected_to(self):\n",
    "        return self._connected_to\n",
    "        \n",
    "q1_o2 = BluetoothSpeaker(3.5, 2, 2, \"mobile\")\n",
    "print(q1_o2.play_music())\n",
    "q1_o2.battery == 100\n"
   ]
  },
  {
   "cell_type": "markdown",
   "metadata": {},
   "source": [
    "#### Question 2&nbsp;&nbsp;&nbsp;&nbsp;&nbsp;&nbsp;(10 Points)\n",
    "\n",
    "Create a new class `SmartSpeakerInherited` that inherits from `BluetoothSpeaker` and has an additional **instance variable** `skills`. \n",
    "\n",
    "**Attributes**:\n",
    "```\n",
    "public\n",
    "\n",
    "  skills # set by default to None \n",
    "```\n",
    "**Methods**:\n",
    "```\n",
    "public \n",
    "\n",
    "   __init__(self, jack, tweeters, woofers, connected, skills)\n",
    "```\n",
    "Inititalize an object `q2_o` of type `SmartSpeakerInherited` as follows:\n",
    "\n",
    "```\n",
    "q2_ob = (SmartSpeakerInherited) SmartSpeakerInherited(3.5,2,2,\"mobile\",None)\n",
    "\n",
    "```"
   ]
  },
  {
   "cell_type": "code",
   "execution_count": 4,
   "metadata": {
    "tags": []
   },
   "outputs": [
    {
     "name": "stdout",
     "output_type": "stream",
     "text": [
      "None\n",
      "2\n"
     ]
    }
   ],
   "source": [
    "# Write your solution here\n",
    "class Speaker:\n",
    "    def __init__(self,jack,tweeters,woofers):\n",
    "        self.jack = jack\n",
    "        self.tweeters = tweeters\n",
    "        self.woofers = woofers\n",
    "        #self.battery = 100\n",
    "        \n",
    "    def play_music(self):\n",
    "        return(f'Playing music from {self._connected_to}')\n",
    "\n",
    "class BluetoothSpeaker(Speaker):\n",
    "    def __init__(self,jack,tweeters,woofers,connected_to,battery=100):\n",
    "        super().__init__(jack,tweeters,woofers)\n",
    "        self._connected_to = connected_to\n",
    "        self.battery = battery\n",
    "        \n",
    "        \n",
    "    def set_connected_to(self,device):\n",
    "        self._connected_to = device\n",
    "        \n",
    "    def get_connected_to(self):\n",
    "        return self._connected_to\n",
    "        \n",
    "\n",
    "class SmartSpeakerInherited(BluetoothSpeaker,Speaker):\n",
    "    def __init__(self, jack, tweeters, woofers, connected, skills=None,battery=100):\n",
    "        self.jack = jack\n",
    "        self.tweeters = tweeters\n",
    "        self.woofers = woofers\n",
    "        self.skills = skills\n",
    "        self.connected = connected\n",
    "        self.battery = battery\n",
    "        \n",
    "q2_ob = SmartSpeakerInherited(3.5,2,2,\"mobile\",None)\n",
    "\n",
    "q2_ob.battery == 100\n",
    "print(q2_ob.skills)\n",
    "print(q2_ob.woofers)"
   ]
  },
  {
   "cell_type": "markdown",
   "metadata": {},
   "source": [
    "#### Question 3&nbsp;&nbsp;&nbsp;&nbsp;&nbsp;&nbsp;(10 Points)\n",
    "Create a new class `SmartSpeakerComposition` that composes two ***instance variables***:\n",
    "- an attribute `speaker` of the class `BluetoothSpeaker`, and\n",
    "- an attribute `skills` of type string. \n",
    "\n",
    "**Attributes**:\n",
    "```\n",
    "public\n",
    "\n",
    "    speaker = instance of BluetoothSpeaker(jack, tweeters, woofers, connected_to)\n",
    "    skills = None # initial value\n",
    "```\n",
    "**Methods**:\n",
    "```\n",
    "public \n",
    "\n",
    "    __init__(self, jack, tweeters, woofers, connected_to, skills)\n",
    "```\n",
    "Inititalize an object `q3_ob` of type `SmartSpeakerInherited` as follows -\n",
    "\n",
    "```\n",
    "q3_ob = SmartSpeakerComposition(6.35, 4, 2, \"playstation\", None)\n",
    "\n",
    "```"
   ]
  },
  {
   "cell_type": "code",
   "execution_count": 5,
   "metadata": {
    "tags": []
   },
   "outputs": [
    {
     "data": {
      "text/plain": [
       "'Playing music from playstation'"
      ]
     },
     "execution_count": 5,
     "metadata": {},
     "output_type": "execute_result"
    }
   ],
   "source": [
    "# Write your solution here\n",
    "class Speaker:\n",
    "    def __init__(self,jack,tweeters,woofers):\n",
    "        self.jack = jack\n",
    "        self.tweeters = tweeters\n",
    "        self.woofers = woofers\n",
    "        #self.battery = 100\n",
    "        \n",
    "    def play_music(self):\n",
    "        return(f'Playing music from {self._connected_to}')\n",
    "\n",
    "class BluetoothSpeaker(Speaker):\n",
    "    def __init__(self,jack,tweeters,woofers,connected_to,battery=100):\n",
    "        super().__init__(jack,tweeters,woofers)\n",
    "        self._connected_to = connected_to\n",
    "        self.battery = battery\n",
    "        \n",
    "        \n",
    "    def set_connected_to(self,device):\n",
    "        self._connected_to = device\n",
    "        \n",
    "    def get_connected_to(self):\n",
    "        return self._connected_to\n",
    "        \n",
    "\n",
    "class SmartSpeakerInherited(BluetoothSpeaker,Speaker):\n",
    "    def __init__(self, jack, tweeters, woofers, connected, skills=None,battery=100):\n",
    "        self.jack = jack\n",
    "        self.tweeters = tweeters\n",
    "        self.woofers = woofers\n",
    "        self.skills = skills\n",
    "        self.connected = connected\n",
    "        self.battery = battery\n",
    "        \n",
    "class SmartSpeakerComposition(BluetoothSpeaker,Speaker):\n",
    "    \n",
    "    def __init__(self, jack, tweeters, woofers, connected_to, skills=None):\n",
    "        self.jack = jack\n",
    "        self.tweeters = tweeters\n",
    "        self.woofers = woofers\n",
    "        self.connected_to = connected_to\n",
    "        self.skills = skills\n",
    "        self.speaker = BluetoothSpeaker(jack,tweeters,woofers,connected_to,battery=100)\n",
    "    \n",
    "    \n",
    "    \n",
    "q3_ob = SmartSpeakerComposition(6.35, 4, 2, \"playstation\", None)\n",
    "q3_ob.speaker.play_music()\n"
   ]
  },
  {
   "cell_type": "markdown",
   "metadata": {},
   "source": [
    "#### Question 4&nbsp;&nbsp;&nbsp;&nbsp;&nbsp;&nbsp;(10 Points)\n",
    "Create a new class `SmartSpeakerAggregation` that has two instance variables to form the aggregation of an object of class `Speaker` and an attribute `skills`. Both the speaker and skills can exist independent of the aggregation and are passed during construction of an instance of `SmartSpeakerAggregation`.\n",
    "\n",
    "**Attributes**:\n",
    "```\n",
    "public\n",
    "\n",
    "  speaker = instance of the Speaker class\n",
    "  skills = None \n",
    "\n",
    "```\n",
    "**Methods**:\n",
    "```\n",
    "public \n",
    "\n",
    "  def __init__(self, speaker, skills)\n",
    "```  \n",
    "<br />\n",
    "Inititalize two objects `speaker` of type `Speaker` and `q4_ob` of type `SmartSpeakerAggregation` as follows: \n",
    "```\n",
    "speaker = Speaker (3.5, 6, 2)\n",
    "q4_ob = SmartSpeakerAggregation (speaker, None)\n",
    "\n",
    "```\n",
    "<br>\n",
    "\n",
    "Think about how you would access the `play_music()` method of `speaker` aggregated by the parent object."
   ]
  },
  {
   "cell_type": "code",
   "execution_count": 6,
   "metadata": {
    "tags": []
   },
   "outputs": [
    {
     "name": "stdout",
     "output_type": "stream",
     "text": [
      "True\n",
      "True\n",
      "True\n"
     ]
    },
    {
     "data": {
      "text/plain": [
       "'Playing music'"
      ]
     },
     "execution_count": 6,
     "metadata": {},
     "output_type": "execute_result"
    }
   ],
   "source": [
    "# Write your solution here\n",
    "\n",
    "class Speaker:\n",
    "    def __init__(self,jack,tweeters,woofers):\n",
    "        self.jack = jack\n",
    "        self.tweeters = tweeters\n",
    "        self.woofers = woofers\n",
    "        \n",
    "    def play_music(self):\n",
    "        return(f'Playing music')\n",
    "    \n",
    "    \n",
    "class BluetoothSpeaker(Speaker):\n",
    "    def __init__(self,jack,tweeters,woofers,connected_to,battery=100):\n",
    "        super().__init__(jack,tweeters,woofers)\n",
    "        self._connected_to = connected_to\n",
    "        self.battery = battery\n",
    "        \n",
    "        \n",
    "    def set_connected_to(self,device):\n",
    "        self._connected_to = device\n",
    "        \n",
    "    def get_connected_to(self):\n",
    "        return self._connected_to\n",
    "        \n",
    "\n",
    "class SmartSpeakerInherited(BluetoothSpeaker,Speaker):\n",
    "    def __init__(self, jack, tweeters, woofers, connected, skills=None,battery=100):\n",
    "        self.jack = jack\n",
    "        self.tweeters = tweeters\n",
    "        self.woofers = woofers\n",
    "        self.skills = skills\n",
    "        self.connected = connected\n",
    "        self.battery = battery\n",
    "        \n",
    "class SmartSpeakerComposition(BluetoothSpeaker,Speaker):\n",
    "    \n",
    "    def __init__(self, jack, tweeters, woofers, connected_to, skills=None):\n",
    "        self.jack = jack\n",
    "        self.tweeters = tweeters\n",
    "        self.woofers = woofers\n",
    "        self.connected_to = connected_to\n",
    "        self.skills = skills\n",
    "        self.speaker = BluetoothSpeaker(jack,tweeters,woofers,connected_to,battery=100)\n",
    "\n",
    "class SmartSpeakerAggregation: #Not inheriting anything\n",
    "    def __init__(self, speaker, skills = None):\n",
    "        self.speaker = speaker\n",
    "        self.skills = skills        \n",
    "        \n",
    "speaker = Speaker(3.5, 6, 2)\n",
    "q4_ob = SmartSpeakerAggregation (speaker, None)\n",
    "print(q4_ob.speaker.jack  == 3.5)\n",
    "print(q4_ob.speaker.tweeters  == 6)\n",
    "print(q4_ob.speaker.woofers  == 2)\n",
    "\n",
    "\n",
    "q4_ob.speaker.play_music()\n"
   ]
  },
  {
   "cell_type": "markdown",
   "metadata": {},
   "source": [
    "#### Question 5&nbsp;&nbsp;&nbsp;&nbsp;&nbsp;&nbsp;(15 Points)\n",
    "Create a new class `Skills` that has one instance variable, `name`, and one method `voice_input(value)`.\n",
    "\n",
    "**Attributes**:\n",
    "```\n",
    "public\n",
    "\n",
    "  name = (string) \n",
    "```\n",
    "\n",
    "**Methods**: \n",
    "```\n",
    "public\n",
    "\n",
    "  __init__(self, name)\n",
    "  \n",
    "  voice_input(self, command) \n",
    "  # if command == self.name, prints out 'Hi, I am <self.name>. How can I help?'\n",
    "\n",
    "  __repr__(self)\n",
    "  # returns the string \"I am a Skill\"\n",
    "```\n",
    "\n",
    "Secondly, create a new class, `MusicSkill`, that inherits from `Skills` and has the following: <br>\n",
    "\n",
    "**Attributes**:\n",
    "```\n",
    "public\n",
    "\n",
    "  music = (string) # defaults to: \"\"\n",
    "  volume = (int)   # defaults to: 0\n",
    "  play = (boolean) # defaults to False\n",
    "```\n",
    "\n",
    "**Methods**: \n",
    "```\n",
    "public\n",
    "\n",
    "  what_is_playing(self)   # returns self.music\n",
    "  set_volume(self, value) # sets self.volume = value\n",
    "  toggle_play(self  )     # sets self.play = not self.play\n",
    "  __repr__(self)          # returns the string \"I am a Music Skill \" + self.name\n",
    "  \n",
    "```\n",
    "\n",
    "Inititalize an object `q5_ob` of type `MusicSkills` as follows:\n",
    "```\n",
    "q5_ob = MusicSkill(\"Alexa\")\n",
    "```\n",
    "\n",
    "<details>\n",
    "  <summary><span style=\"color:blue\">What is the __repr__ method?</span></summary>\n",
    "    The <a href=\"https://docs.python.org/3/library/functions.html#repr\">__repr__()</a> method returns a string containing a printable representation of an object. A class can control what this function returns for its instances by defining a __repr__() method allowing an object when evaluated to return a \"human friendly\" and readable string.\n",
    "</details>"
   ]
  },
  {
   "cell_type": "code",
   "execution_count": 4,
   "metadata": {
    "tags": []
   },
   "outputs": [
    {
     "name": "stdout",
     "output_type": "stream",
     "text": [
      "'Hi, I am Siri. How can I help?'\n",
      "None\n",
      "I am a Skill\n",
      "\n",
      "I am a Music Skill Alexa\n",
      "None\n"
     ]
    }
   ],
   "source": [
    "# Write your solution here\n",
    "   \n",
    "class Skills:\n",
    "    def __init__(self, name):\n",
    "        self.name = name\n",
    "    \n",
    "    def voice_input(self, command):\n",
    "        # if command == self.name, prints out 'Hi, I am <self.name>. How can I help?'\n",
    "        if command == self.name:\n",
    "            print(\"'Hi, I am \" + self.name + \". How can I help?'\")\n",
    "                                  \n",
    "    def  __repr__(self):\n",
    "        return (f'I am a Skill')\n",
    "    \n",
    "class MusicSkill(Skills):\n",
    "    def __init__(self, name, music = \"\", volume = 0, play = False):\n",
    "        Skills.__init__(self, name)\n",
    "        self.music = music\n",
    "        self.volume = volume\n",
    "        self.play = play\n",
    "        \n",
    "    def what_is_playing(self):\n",
    "        return self.music\n",
    "    \n",
    "    def set_volume(self, value): #sets self.volume = value\n",
    "        self.volume = value\n",
    "    \n",
    "    def toggle_play(self): #sets self.play = not self.play\n",
    "        self.play = not self.play\n",
    "    \n",
    "    def __repr__(self): # returns the string \"I am a Music Skill \" + self.name\n",
    "        return (f'I am a Music Skill ' + self.name)\n",
    "\n",
    "q5_ob1 = Skills(\"Siri\")\n",
    "print(q5_ob1.voice_input(\"Siri\"))\n",
    "print(q5_ob1.__repr__())\n",
    "\n",
    "q5_ob = MusicSkill(\"Alexa\")\n",
    "print(q5_ob.what_is_playing())\n",
    "print(q5_ob.__repr__())\n",
    "print(q5_ob.toggle_play())\n"
   ]
  },
  {
   "cell_type": "markdown",
   "metadata": {},
   "source": [
    "#### Question 6&nbsp;&nbsp;&nbsp;&nbsp;&nbsp;&nbsp;(10 Points)\n",
    "Now that we have our speakers and skills ready, create a new class `AlexaDevice`  which inherits from `BluetoothSpeaker` and `MusicSkill`: \n",
    "\n",
    "The initializer method will have the signature:<br />\n",
    "**Methods**:\n",
    "```\n",
    "public \n",
    "\n",
    "    __init__(self, jack, tweeters, woofers, connected_to, name)\n",
    "```\n",
    "and pass on these parameters during construction.\n",
    "\n",
    "Instantiate an object `q6_ob` of class `AlexaDevice` as follows: \n",
    "```\n",
    "q6_ob = AlexaDevice(3.5, 2, 2, \"mobile\", \"Kumars_Alexa\")\n",
    "```\n",
    "and run the following commands and observe the outputs:\n",
    "\n",
    "```python\n",
    "print(q6_ob.name)\n",
    "str(type(q6_ob))\n",
    "print(q6_ob.what_is_playing())\n",
    "q6_ob.set_volume(5)\n",
    "q6_ob.volume\n",
    "q6_ob.toggle_play() \n",
    "print(q6_ob.play)\n",
    "```"
   ]
  },
  {
   "cell_type": "code",
   "execution_count": 8,
   "metadata": {
    "tags": []
   },
   "outputs": [
    {
     "name": "stdout",
     "output_type": "stream",
     "text": [
      "Kumars_Alexa\n",
      "\n",
      "5\n",
      "None\n",
      "True\n"
     ]
    }
   ],
   "source": [
    "# Write your solution here\n",
    "class AlexaDevice(BluetoothSpeaker, MusicSkill):\n",
    "#     battery = 100\n",
    "    def __init__(self, jack, tweeters, woofers, connected_to, name, battery=100):\n",
    "        BluetoothSpeaker.__init__(self,jack,tweeters,woofers,connected_to,battery=100)\n",
    "        MusicSkill.__init__(self, name, music = \"\", volume = 0, play = False)\n",
    "        self.battery = battery\n",
    "        \n",
    "q6_ob = AlexaDevice(3.5, 2, 2, \"mobile\", \"Kumars_Alexa\")\n",
    "print(q6_ob.name)\n",
    "str(type(q6_ob))\n",
    "print(q6_ob.what_is_playing())\n",
    "q6_ob.set_volume(5)\n",
    "print(q6_ob.volume)\n",
    "print(q6_ob.toggle_play())\n",
    "print(q6_ob.play)"
   ]
  },
  {
   "cell_type": "markdown",
   "metadata": {},
   "source": [
    "#### Question 7&nbsp;&nbsp;&nbsp;&nbsp;&nbsp;&nbsp;(10 Points) \n",
    "Create a class `Vertex` that represents the location of a point on a two dimensional Cartesian plane. The class should have the following attributes and methods:\n",
    "\n",
    "**Attributes**:\n",
    "```\n",
    "protected\n",
    "\n",
    "  x, y : coordinates of the vertex on the plane such as 0, 1.2.\n",
    "```\n",
    "\n",
    "**Methods**: \n",
    "```\n",
    "public\n",
    "\n",
    "  __init__(self, x, y)    # initialize the object\n",
    "\n",
    "  get(self)               # return the tuple x, y\n",
    "  \n",
    "  set(self, x, y)         # set coords\n",
    "  \n",
    "  def __eq__(self, other) # test equality between vertices (same x and y)\n",
    "  \n",
    "  def __repr__(self)      # returns a string representation like \"(x, y)\" eg: \"(0, 1.2)\"\n",
    "```"
   ]
  },
  {
   "cell_type": "code",
   "execution_count": 1,
   "metadata": {
    "tags": []
   },
   "outputs": [
    {
     "name": "stdout",
     "output_type": "stream",
     "text": [
      "(5, 6)\n",
      "False\n",
      "(5, 6)\n"
     ]
    }
   ],
   "source": [
    "# Write your solution here\n",
    "\n",
    "class Vertex:\n",
    "    \n",
    "    def __init__(self,x,y):\n",
    "        self._x = x\n",
    "        self._y = y\n",
    "        \n",
    "    def get(self):\n",
    "        return self._x, self._y\n",
    "    \n",
    "    def set(self,x,y):\n",
    "        self._x = x\n",
    "        self._y = y\n",
    "        \n",
    "    def __eq__(self, other):\n",
    "        return self._x==other._x and self._y==other._y\n",
    "    \n",
    "    def __repr__(self):\n",
    "        return \"(\" + str(self._x) + \", \" + str(self._y) +\")\"\n",
    "    \n",
    "    \n",
    "    \n",
    "        \n",
    "obj7 = Vertex(5,6)\n",
    "obj7.set(5,6)\n",
    "print(obj7.get())\n",
    "obj8 = Vertex(6,5)\n",
    "print(obj7 == obj8)\n",
    "print(obj7.__repr__())"
   ]
  },
  {
   "cell_type": "markdown",
   "metadata": {},
   "source": [
    "#### Question 8&nbsp;&nbsp;&nbsp;&nbsp;&nbsp;&nbsp;(10 Points) \n",
    "\n",
    "Let's look at an example of aggregation. Create a class `Shape` that is passed a list of vertices and stores these as a protected attribute. \n",
    "\n",
    "This new class is an example of aggregation because vertices can exist independent of the shape - it can be said that a Shape 'has some' Vertices. When an object of a class is initialized with objects of another class, it is a strong indication of an aggregate since a composition relationship would require the Shape to create its own vertices. \n",
    "\n",
    "Implement the class with the following features:\n",
    "\n",
    "**Attributes**:\n",
    "```\n",
    "protected\n",
    "\n",
    "  vertices : a protected list of Vertex objects that define the shape\n",
    "```\n",
    "\n",
    "**Methods**: \n",
    "```\n",
    "public\n",
    "\n",
    "  def __init__(self, vertices):    # initialise the Shape\n",
    "    \n",
    "  def get_vertices(self)           # return the list of vertices\n",
    "\n",
    "  def set_vertices(self, vertices) # set a new list of vertices\n",
    "\n",
    "  def __eq__(self, other) # returns True when the vertices of the shape are\n",
    "                          # identical - REGARDLESS OF ORDER.\n",
    "```\n",
    "---\n",
    "<details>\n",
    "  <summary><span style=\"color:blue\">How to ignore the order of verticies?</span></summary>\n",
    "  In determining equality, we wish to compare the vertices regardless of order. One useful way to do this is to transform the list of 'self' and 'other' vertices into Python sets and then compare. But to create a Vertex set from a list requires that you implement the dunder method __hash__(self) on the class Vertex. You can investigate this yourself or implement your own algorithm to assess equality of the vertices. :-)\n",
    "</details>"
   ]
  },
  {
   "cell_type": "code",
   "execution_count": 2,
   "metadata": {
    "tags": []
   },
   "outputs": [
    {
     "name": "stdout",
     "output_type": "stream",
     "text": [
      "[(2, 1), (1, 2)]\n",
      "[(1, 2), (2, 2)]\n",
      "True\n"
     ]
    }
   ],
   "source": [
    "# Write your solution here\n",
    "class Shape:\n",
    "    def __init__(self, vertices):\n",
    "        self._vertices = vertices\n",
    "        \n",
    "    def get_vertices(self):\n",
    "        return self._vertices\n",
    "    \n",
    "    def set_vertices(self, vertices):\n",
    "        self._vertices = vertices\n",
    "        \n",
    "    def __eq__(self, other):\n",
    "        return hash(self) == hash(other)\n",
    "    \n",
    "    def __hash__(self):\n",
    "        s = set()\n",
    "        for x in self._vertices:\n",
    "            s.add(x.get())\n",
    "        return hash(tuple(s))\n",
    "        \n",
    "l1 = [Vertex(1,2), Vertex(2,2), Vertex(2,1)]\n",
    "l2 = [Vertex(2,1), Vertex(1,2), Vertex(2,2)]\n",
    "l3 = [Vertex(2,1), Vertex(1,2)]\n",
    "s3 = Shape(l3)\n",
    "print(s3._vertices)\n",
    "s3.set_vertices([Vertex(1,2), Vertex(2,2)])\n",
    "print(s3.get_vertices())\n",
    "s1 = Shape(l1)\n",
    "s2 = Shape(l2)\n",
    "print(s1 == s2)     \n",
    "        \n",
    "    \n"
   ]
  },
  {
   "cell_type": "markdown",
   "metadata": {},
   "source": [
    "#### Question 9&nbsp;&nbsp;&nbsp;&nbsp;&nbsp;&nbsp;(10 Points)\n",
    "\n",
    "Let's now examine an example of composition. Create a class `Square` that accepts an origin and the length of the side of the square and creates it's own protected list of vertices by calculating the corners of the square and storing each in a list as an instance of the class `Vertex`. \n",
    "\n",
    "Deciding between aggregation and composition is a slightly grey area in many cases. However, in this case, we can say that the corners are *part of* the `Square`, are created by the `Square` and are not part of any other shape since protected. Thus the square is composed of the corners. \n",
    "\n",
    "Create our `Square` as follows:\n",
    "\n",
    "**Attributes**:\n",
    "```\n",
    "protected\n",
    "\n",
    "  corners : a protected list of Vertex objects that define the shape\n",
    "```\n",
    "\n",
    "**Methods**: \n",
    "```\n",
    "public\n",
    "\n",
    "  __init__(self, origin, side_length) # a Vertex origin of the square and the\n",
    "                                      # length of the sides\n",
    "    \n",
    "  get_corners(self) # return the list of vertices defining the shape\n",
    "\n",
    "  __eq__(self, other) # returns True when the square has the same size and origin\n",
    "  \n",
    "  __repr__(self) # returns a comma separated list of the corners like:\n",
    "                 # '(1, 1), (1, 3), (3, 3), (3, 1)'\n",
    "```                  "
   ]
  },
  {
   "cell_type": "code",
   "execution_count": 3,
   "metadata": {
    "tags": []
   },
   "outputs": [
    {
     "name": "stdout",
     "output_type": "stream",
     "text": [
      "(1, 1), (1, 3), (3, 3), (3, 1)\n",
      "[(1, 1), (1, 3), (3, 3), (3, 1)]\n",
      "True\n",
      "False\n"
     ]
    }
   ],
   "source": [
    "# Write your solution here\n",
    "class Square:\n",
    "    def __init__(self, origin, side_length):\n",
    "        self._corners = self._corners = [origin, Vertex(origin.get()[0], origin.get()[1]+side_length), Vertex(origin.get()[0]+side_length, origin.get()[1]+side_length), Vertex(origin.get()[0]+side_length, origin.get()[1])]\n",
    "        \n",
    "        \n",
    "    def get_corners(self):\n",
    "        return self._corners\n",
    "    \n",
    "    def __eq__(self, other):\n",
    "        return self._corners == other._corners\n",
    "    \n",
    "    def __repr__(self):\n",
    "        return str(self._corners)[1:-1]\n",
    "    \n",
    "a = Square(Vertex(1,1), 2)\n",
    "print(a)\n",
    "print(a.get_corners())\n",
    "b = Square(Vertex(1,1), 2)\n",
    "c = Square(Vertex(0,0), 2)\n",
    "print(a==b)\n",
    "print(a==c)\n",
    "    \n",
    "    \n",
    "    \n",
    "    \n"
   ]
  },
  {
   "cell_type": "code",
   "execution_count": null,
   "metadata": {},
   "outputs": [],
   "source": []
  }
 ],
 "metadata": {
  "celltoolbar": "Edit Metadata",
  "kernelspec": {
   "display_name": "Python 3",
   "language": "python",
   "name": "python3"
  },
  "language_info": {
   "codemirror_mode": {
    "name": "ipython",
    "version": 3
   },
   "file_extension": ".py",
   "mimetype": "text/x-python",
   "name": "python",
   "nbconvert_exporter": "python",
   "pygments_lexer": "ipython3",
   "version": "3.7.0"
  },
  "otter": {
   "OK_FORMAT": true,
   "tests": {
    "Question 01a": {
     "name": "Question 01a",
     "points": 5,
     "suites": [
      {
       "cases": [],
       "scored": true,
       "setup": "",
       "teardown": "",
       "type": "doctest"
      }
     ]
    },
    "Question 01b": {
     "name": "Question 01b",
     "points": 10,
     "suites": [
      {
       "cases": [],
       "scored": true,
       "setup": "",
       "teardown": "",
       "type": "doctest"
      }
     ]
    },
    "Question 02": {
     "name": "Question 02",
     "points": 10,
     "suites": [
      {
       "cases": [],
       "scored": true,
       "setup": "",
       "teardown": "",
       "type": "doctest"
      }
     ]
    },
    "Question 03": {
     "name": "Question 03",
     "points": 10,
     "suites": [
      {
       "cases": [],
       "scored": true,
       "setup": "",
       "teardown": "",
       "type": "doctest"
      }
     ]
    },
    "Question 04": {
     "name": "Question 04",
     "points": 10,
     "suites": [
      {
       "cases": [],
       "scored": true,
       "setup": "",
       "teardown": "",
       "type": "doctest"
      }
     ]
    },
    "Question 05": {
     "name": "Question 05",
     "points": 15,
     "suites": [
      {
       "cases": [],
       "scored": true,
       "setup": "",
       "teardown": "",
       "type": "doctest"
      }
     ]
    },
    "Question 06": {
     "name": "Question 06",
     "points": 10,
     "suites": [
      {
       "cases": [],
       "scored": true,
       "setup": "",
       "teardown": "",
       "type": "doctest"
      }
     ]
    },
    "Question 07": {
     "name": "Question 07",
     "points": 10,
     "suites": [
      {
       "cases": [],
       "scored": true,
       "setup": "",
       "teardown": "",
       "type": "doctest"
      }
     ]
    },
    "Question 08": {
     "name": "Question 08",
     "points": 10,
     "suites": [
      {
       "cases": [],
       "scored": true,
       "setup": "",
       "teardown": "",
       "type": "doctest"
      }
     ]
    },
    "Question 09": {
     "name": "Question 09",
     "points": 10,
     "suites": [
      {
       "cases": [],
       "scored": true,
       "setup": "",
       "teardown": "",
       "type": "doctest"
      }
     ]
    }
   }
  },
  "varInspector": {
   "cols": {
    "lenName": 16,
    "lenType": 16,
    "lenVar": 40
   },
   "kernels_config": {
    "python": {
     "delete_cmd_postfix": "",
     "delete_cmd_prefix": "del ",
     "library": "var_list.py",
     "varRefreshCmd": "print(var_dic_list())"
    },
    "r": {
     "delete_cmd_postfix": ") ",
     "delete_cmd_prefix": "rm(",
     "library": "var_list.r",
     "varRefreshCmd": "cat(var_dic_list()) "
    }
   },
   "types_to_exclude": [
    "module",
    "function",
    "builtin_function_or_method",
    "instance",
    "_Feature"
   ],
   "window_display": false
  }
 },
 "nbformat": 4,
 "nbformat_minor": 4
}
